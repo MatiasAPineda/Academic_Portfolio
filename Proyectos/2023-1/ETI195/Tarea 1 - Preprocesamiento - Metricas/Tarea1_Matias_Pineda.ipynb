{
 "cells": [
  {
   "cell_type": "markdown",
   "id": "b0fc2121",
   "metadata": {},
   "source": [
    "<h1><center>IMT2240 Ciencia de Datos Responsable</center></h1>\n",
    "<h2><center>Taller 2 (Sumativo): Preprocesamiento de datos - Métricas</center></h2>\n",
    "<h3><center>28 de marzo, 2023</center></h3>"
   ]
  },
  {
   "cell_type": "code",
   "execution_count": 27,
   "id": "939136b3",
   "metadata": {},
   "outputs": [
    {
     "data": {
      "text/html": [
       "<style>.container { width:100% !important; }</style>"
      ],
      "text/plain": [
       "<IPython.core.display.HTML object>"
      ]
     },
     "metadata": {},
     "output_type": "display_data"
    }
   ],
   "source": [
    "import pandas as pd\n",
    "import numpy as np\n",
    "from matplotlib import pyplot as plt\n",
    "import seaborn as sns\n",
    "from IPython.display import display, HTML\n",
    "display(HTML(\"<style>.container { width:100% !important; }</style>\"))"
   ]
  },
  {
   "cell_type": "markdown",
   "id": "858458bc",
   "metadata": {},
   "source": [
    "# Introducción: Métricas de Fairness"
   ]
  },
  {
   "cell_type": "markdown",
   "id": "57ece92c",
   "metadata": {},
   "source": [
    "Las métricas de fairness se refieren a un conjunto de medidas que se utilizan para evaluar cuantitativamente la equidad de los modelos de aprendizaje automático. Las métricas de fairness se utilizan para medir la equidad de un modelo en función de diferentes atributos sensibles, como la raza, el género o la edad. Así, estas métricas buscan asegurarse de que el modelo no esté sesgado y no discrimine a ciertos grupos de personas o individuos. \n",
    "\n",
    "Recordemos algunos conceptos básicos de clasificación:\n",
    "\n",
    "- **True Positive (TP)**: Casos en los que el modelo predice correctamente la clase positiva, es decir, la clase que se desea detectar o identificar.<br></br>\n",
    "\n",
    "- **False Positive (FP)**: Casos en los que el modelo predice incorrectamente la clase positiva, es decir, predice que algo es positivo cuando en realidad es negativo.<br></br>\n",
    "\n",
    "- **True Negative (TN)**: Casos en los que el modelo predice correctamente la clase negativa.<br></br>\n",
    "\n",
    "- **False Negative (FN)**: Casos en los que el modelo predice incorrectamente la clase negativa, es decir, predice que algo es negativo cuando en realidad es positivo.\n",
    "\n",
    "En base a estos conceptos, se definen las siguientes métricas:\n",
    "\n",
    "- **False Negative Rate (FNR)**: Mide la proporción de casos positivos que son incorrectamente clasificados como negativos.\n",
    "\n",
    "$$\\text{FNR} = \\frac{\\text{FN}}{\\text{FN + TP}}$$\n",
    "\n",
    "- **False Positive Rate (FPR)**: Mide la proporción de casos negativos que son incorrectamente clasificados como positivos.\n",
    "\n",
    "$$\\text{FPR} = \\frac{\\text{FP}}{\\text{FP + TN}}$$\n",
    "\n",
    "\n",
    "- **False Omission Rate (FOR)**: Mide la proporción de casos clasificados como negativos que son incorrectos.\n",
    "\n",
    "$$\\text{FOR} = \\frac{\\text{FN}}{\\text{FN + TN}}$$\n",
    "\n",
    "- **False Discovery Rate (FDR)**: Mide la proporción de casos clasificados como positivos que son incorrectos.\n",
    "\n",
    "$$\\text{FOR} = \\frac{\\text{FP}}{\\text{FP + TP}}$$\n",
    "\n",
    "Estas métricas son importantes para evaluar la equidad y la justicia en los modelos de ciencia de datos, y para la detección de sesgos y discriminación. Supongamos que se ha construido un modelo de ciencia de datos para predecir si un paciente tiene una enfermedad cardíaca o no (ver taller pasado). El modelo utiliza datos de pacientes anteriores y se entrena para predecir la presencia de la enfermedad. ¿Qué nos indicarían las métricas en dicho contexto?\n",
    "\n",
    "- **False Negative Rate (FNR)**:  Una FNR alta significa que muchos pacientes con la enfermedad cardíaca son incorrectamente clasificados como no enfermos, lo que puede llevar a que no reciban el tratamiento que necesitan y poner su salud en riesgo. Por otro lado, una FNR baja significa que el modelo es más preciso en detectar a los pacientes que tienen la enfermedad cardíaca.<br></br>\n",
    "\n",
    "- **False Positive Rate (FPR)**: Una FPR alta significa que muchos pacientes sin la enfermedad cardíaca son incorrectamente clasificados como enfermos, lo que puede llevar a pruebas y tratamientos innecesarios, y a la posibilidad de causarles estrés y ansiedad innecesarios. Por otro lado, una FPR baja significa que el modelo es más preciso en identificar a los pacientes que no tienen la enfermedad cardíaca.<br></br>\n",
    "\n",
    "- **False Omission Rate (FOR)**: Una FOR alta significa que el modelo tiene una alta proporción de pacientes clasificados como no enfermos, que en realidad sí lo están.<br></br>\n",
    "\n",
    "- **False Discovery Rate (FDR)**: Una FDR alta significa que el modelo tiene una alta proporción de pacientes clasificados como enfermos, que en realidad no lo están.<br></br>\n"
   ]
  },
  {
   "cell_type": "markdown",
   "id": "6934e1cc",
   "metadata": {},
   "source": [
    "# Evaluación\n",
    "\n",
    "Este taller se divide en dos partes. \n",
    "\n",
    "Primero, deberán realizar la limpieza, pre-procesamiento y análisis descriptivo de datos de riesgo crediticio alemanes, similar a lo que se hizo en el taller 1. El desarrollo de esta parte es de carácter abierto: Realice la limpieza y pre-procesamiento de la forma que ud. crea más adecuada, e incluya los análisis e insights que usted estime relevante. Explique sus razonamientos. El objetivo es que desarrollen sus habilidades exploratorias en el contexto de la ciencia de datos responsable. Pueden basarse en el taller anterior.\n",
    "\n",
    "En la segunda parte del taller, deberán calcular las métricas introducidas en este taller para el caso de COMPAS, que también vimos en el taller anterior. \n",
    "\n",
    "# Parte 1: German Credit Risk.\n",
    "\n",
    "Las exigencias generales son las siguientes:\n",
    "\n",
    "- Overview de los datos.\n",
    "- Verificar datos duplicados.\n",
    "- Verificar datos faltantes.\n",
    "- Identificar atributos categóricos y numéricos. Formatear según sea necesario.\n",
    "- Analizar la variable objetivo (risk). ¿Qué pasa con esta variable dentro de los distintos grupos? Incluya visualizaciones.\n",
    "- Visualice las variables categóricas y numéricas.\n"
   ]
  },
  {
   "cell_type": "code",
   "execution_count": 28,
   "id": "ea4c5fc7",
   "metadata": {},
   "outputs": [
    {
     "data": {
      "text/html": [
       "<div>\n",
       "<style scoped>\n",
       "    .dataframe tbody tr th:only-of-type {\n",
       "        vertical-align: middle;\n",
       "    }\n",
       "\n",
       "    .dataframe tbody tr th {\n",
       "        vertical-align: top;\n",
       "    }\n",
       "\n",
       "    .dataframe thead th {\n",
       "        text-align: right;\n",
       "    }\n",
       "</style>\n",
       "<table border=\"1\" class=\"dataframe\">\n",
       "  <thead>\n",
       "    <tr style=\"text-align: right;\">\n",
       "      <th></th>\n",
       "      <th>Age</th>\n",
       "      <th>Sex</th>\n",
       "      <th>Job</th>\n",
       "      <th>Housing</th>\n",
       "      <th>Saving accounts</th>\n",
       "      <th>Checking account</th>\n",
       "      <th>Credit amount</th>\n",
       "      <th>Duration</th>\n",
       "      <th>Purpose</th>\n",
       "      <th>Risk</th>\n",
       "    </tr>\n",
       "  </thead>\n",
       "  <tbody>\n",
       "    <tr>\n",
       "      <th>0</th>\n",
       "      <td>67</td>\n",
       "      <td>male</td>\n",
       "      <td>2</td>\n",
       "      <td>own</td>\n",
       "      <td>NaN</td>\n",
       "      <td>little</td>\n",
       "      <td>1169</td>\n",
       "      <td>6</td>\n",
       "      <td>radio/TV</td>\n",
       "      <td>good</td>\n",
       "    </tr>\n",
       "    <tr>\n",
       "      <th>1</th>\n",
       "      <td>22</td>\n",
       "      <td>female</td>\n",
       "      <td>2</td>\n",
       "      <td>own</td>\n",
       "      <td>little</td>\n",
       "      <td>moderate</td>\n",
       "      <td>5951</td>\n",
       "      <td>48</td>\n",
       "      <td>radio/TV</td>\n",
       "      <td>bad</td>\n",
       "    </tr>\n",
       "    <tr>\n",
       "      <th>2</th>\n",
       "      <td>49</td>\n",
       "      <td>male</td>\n",
       "      <td>1</td>\n",
       "      <td>own</td>\n",
       "      <td>little</td>\n",
       "      <td>NaN</td>\n",
       "      <td>2096</td>\n",
       "      <td>12</td>\n",
       "      <td>education</td>\n",
       "      <td>good</td>\n",
       "    </tr>\n",
       "    <tr>\n",
       "      <th>3</th>\n",
       "      <td>45</td>\n",
       "      <td>male</td>\n",
       "      <td>2</td>\n",
       "      <td>free</td>\n",
       "      <td>little</td>\n",
       "      <td>little</td>\n",
       "      <td>7882</td>\n",
       "      <td>42</td>\n",
       "      <td>furniture/equipment</td>\n",
       "      <td>good</td>\n",
       "    </tr>\n",
       "    <tr>\n",
       "      <th>4</th>\n",
       "      <td>53</td>\n",
       "      <td>male</td>\n",
       "      <td>2</td>\n",
       "      <td>free</td>\n",
       "      <td>little</td>\n",
       "      <td>little</td>\n",
       "      <td>4870</td>\n",
       "      <td>24</td>\n",
       "      <td>car</td>\n",
       "      <td>bad</td>\n",
       "    </tr>\n",
       "  </tbody>\n",
       "</table>\n",
       "</div>"
      ],
      "text/plain": [
       "   Age     Sex  Job Housing Saving accounts Checking account  Credit amount  \\\n",
       "0   67    male    2     own             NaN           little           1169   \n",
       "1   22  female    2     own          little         moderate           5951   \n",
       "2   49    male    1     own          little              NaN           2096   \n",
       "3   45    male    2    free          little           little           7882   \n",
       "4   53    male    2    free          little           little           4870   \n",
       "\n",
       "   Duration              Purpose  Risk  \n",
       "0         6             radio/TV  good  \n",
       "1        48             radio/TV   bad  \n",
       "2        12            education  good  \n",
       "3        42  furniture/equipment  good  \n",
       "4        24                  car   bad  "
      ]
     },
     "execution_count": 28,
     "metadata": {},
     "output_type": "execute_result"
    }
   ],
   "source": [
    "german = pd.read_csv('data/german_credit_data.csv')\n",
    "german.drop(columns=['Unnamed: 0'], inplace= True)\n",
    "german.head()"
   ]
  },
  {
   "cell_type": "code",
   "execution_count": 29,
   "id": "a971dff2",
   "metadata": {},
   "outputs": [
    {
     "name": "stdout",
     "output_type": "stream",
     "text": [
      "<class 'pandas.core.frame.DataFrame'>\n",
      "RangeIndex: 1000 entries, 0 to 999\n",
      "Data columns (total 10 columns):\n",
      " #   Column            Non-Null Count  Dtype \n",
      "---  ------            --------------  ----- \n",
      " 0   Age               1000 non-null   int64 \n",
      " 1   Sex               1000 non-null   object\n",
      " 2   Job               1000 non-null   int64 \n",
      " 3   Housing           1000 non-null   object\n",
      " 4   Saving accounts   817 non-null    object\n",
      " 5   Checking account  606 non-null    object\n",
      " 6   Credit amount     1000 non-null   int64 \n",
      " 7   Duration          1000 non-null   int64 \n",
      " 8   Purpose           1000 non-null   object\n",
      " 9   Risk              1000 non-null   object\n",
      "dtypes: int64(4), object(6)\n",
      "memory usage: 78.2+ KB\n"
     ]
    }
   ],
   "source": [
    "german.info()"
   ]
  },
  {
   "cell_type": "code",
   "execution_count": 30,
   "id": "729ecaab",
   "metadata": {},
   "outputs": [
    {
     "data": {
      "text/plain": [
       "array(['little', 'moderate', nan, 'rich'], dtype=object)"
      ]
     },
     "execution_count": 30,
     "metadata": {},
     "output_type": "execute_result"
    }
   ],
   "source": [
    "german['Checking account'].unique()"
   ]
  },
  {
   "attachments": {},
   "cell_type": "markdown",
   "id": "064e623a",
   "metadata": {},
   "source": [
    "Veamos una descripción general de datos:\n",
    "\n",
    "\n",
    "- Age: Edad en años.\n",
    "- Sex: Genero (male = Hombre, female = Mujer) \n",
    "- Job: Tipo de trabajo ( [0, 1, 2, 3] No se especifica a qué corresponde cada trabajo)\n",
    "- Housing: Vivienda (own = Vivienda propia, rent = Arrendando vivienda, free = Sin vivienda propia)\n",
    "- Saving accounts: Cuenta de ahorro (little = poco ahorro, moderate = ahorro moderado, quite rich = buen ahorro, rich = mucho ahorro)\n",
    "- Checking account: Centa corriente(little = poco ahorra, moderate = ahorro moderado, rich = mucho ahorro)\n",
    "- Credit amount: Cantidad de Crédito \n",
    "- Duration: Tiempo del crédito\n",
    "- Purpose: Propósito del crédito\n",
    "- Risk: Riesgo del crédito (good or bad)"
   ]
  },
  {
   "cell_type": "code",
   "execution_count": 31,
   "id": "9b7102d2",
   "metadata": {},
   "outputs": [
    {
     "data": {
      "text/html": [
       "<div>\n",
       "<style scoped>\n",
       "    .dataframe tbody tr th:only-of-type {\n",
       "        vertical-align: middle;\n",
       "    }\n",
       "\n",
       "    .dataframe tbody tr th {\n",
       "        vertical-align: top;\n",
       "    }\n",
       "\n",
       "    .dataframe thead th {\n",
       "        text-align: right;\n",
       "    }\n",
       "</style>\n",
       "<table border=\"1\" class=\"dataframe\">\n",
       "  <thead>\n",
       "    <tr style=\"text-align: right;\">\n",
       "      <th></th>\n",
       "      <th>Age</th>\n",
       "      <th>Sex</th>\n",
       "      <th>Job</th>\n",
       "      <th>Housing</th>\n",
       "      <th>Saving accounts</th>\n",
       "      <th>Checking account</th>\n",
       "      <th>Credit amount</th>\n",
       "      <th>Duration</th>\n",
       "      <th>Purpose</th>\n",
       "      <th>Risk</th>\n",
       "    </tr>\n",
       "  </thead>\n",
       "  <tbody>\n",
       "    <tr>\n",
       "      <th>995</th>\n",
       "      <td>31</td>\n",
       "      <td>female</td>\n",
       "      <td>1</td>\n",
       "      <td>own</td>\n",
       "      <td>little</td>\n",
       "      <td>NaN</td>\n",
       "      <td>1736</td>\n",
       "      <td>12</td>\n",
       "      <td>furniture/equipment</td>\n",
       "      <td>good</td>\n",
       "    </tr>\n",
       "    <tr>\n",
       "      <th>996</th>\n",
       "      <td>40</td>\n",
       "      <td>male</td>\n",
       "      <td>3</td>\n",
       "      <td>own</td>\n",
       "      <td>little</td>\n",
       "      <td>little</td>\n",
       "      <td>3857</td>\n",
       "      <td>30</td>\n",
       "      <td>car</td>\n",
       "      <td>good</td>\n",
       "    </tr>\n",
       "    <tr>\n",
       "      <th>997</th>\n",
       "      <td>38</td>\n",
       "      <td>male</td>\n",
       "      <td>2</td>\n",
       "      <td>own</td>\n",
       "      <td>little</td>\n",
       "      <td>NaN</td>\n",
       "      <td>804</td>\n",
       "      <td>12</td>\n",
       "      <td>radio/TV</td>\n",
       "      <td>good</td>\n",
       "    </tr>\n",
       "    <tr>\n",
       "      <th>998</th>\n",
       "      <td>23</td>\n",
       "      <td>male</td>\n",
       "      <td>2</td>\n",
       "      <td>free</td>\n",
       "      <td>little</td>\n",
       "      <td>little</td>\n",
       "      <td>1845</td>\n",
       "      <td>45</td>\n",
       "      <td>radio/TV</td>\n",
       "      <td>bad</td>\n",
       "    </tr>\n",
       "    <tr>\n",
       "      <th>999</th>\n",
       "      <td>27</td>\n",
       "      <td>male</td>\n",
       "      <td>2</td>\n",
       "      <td>own</td>\n",
       "      <td>moderate</td>\n",
       "      <td>moderate</td>\n",
       "      <td>4576</td>\n",
       "      <td>45</td>\n",
       "      <td>car</td>\n",
       "      <td>good</td>\n",
       "    </tr>\n",
       "  </tbody>\n",
       "</table>\n",
       "</div>"
      ],
      "text/plain": [
       "     Age     Sex  Job Housing Saving accounts Checking account  Credit amount  \\\n",
       "995   31  female    1     own          little              NaN           1736   \n",
       "996   40    male    3     own          little           little           3857   \n",
       "997   38    male    2     own          little              NaN            804   \n",
       "998   23    male    2    free          little           little           1845   \n",
       "999   27    male    2     own        moderate         moderate           4576   \n",
       "\n",
       "     Duration              Purpose  Risk  \n",
       "995        12  furniture/equipment  good  \n",
       "996        30                  car  good  \n",
       "997        12             radio/TV  good  \n",
       "998        45             radio/TV   bad  \n",
       "999        45                  car  good  "
      ]
     },
     "execution_count": 31,
     "metadata": {},
     "output_type": "execute_result"
    }
   ],
   "source": [
    "german.tail()"
   ]
  },
  {
   "cell_type": "code",
   "execution_count": 32,
   "id": "35a9c582",
   "metadata": {},
   "outputs": [
    {
     "data": {
      "text/html": [
       "<div>\n",
       "<style scoped>\n",
       "    .dataframe tbody tr th:only-of-type {\n",
       "        vertical-align: middle;\n",
       "    }\n",
       "\n",
       "    .dataframe tbody tr th {\n",
       "        vertical-align: top;\n",
       "    }\n",
       "\n",
       "    .dataframe thead th {\n",
       "        text-align: right;\n",
       "    }\n",
       "</style>\n",
       "<table border=\"1\" class=\"dataframe\">\n",
       "  <thead>\n",
       "    <tr style=\"text-align: right;\">\n",
       "      <th></th>\n",
       "      <th>Age</th>\n",
       "      <th>Sex</th>\n",
       "      <th>Job</th>\n",
       "      <th>Housing</th>\n",
       "      <th>Saving accounts</th>\n",
       "      <th>Checking account</th>\n",
       "      <th>Credit amount</th>\n",
       "      <th>Duration</th>\n",
       "      <th>Purpose</th>\n",
       "      <th>Risk</th>\n",
       "    </tr>\n",
       "  </thead>\n",
       "  <tbody>\n",
       "    <tr>\n",
       "      <th>0</th>\n",
       "      <td>67</td>\n",
       "      <td>male</td>\n",
       "      <td>2</td>\n",
       "      <td>own</td>\n",
       "      <td>NaN</td>\n",
       "      <td>little</td>\n",
       "      <td>1169</td>\n",
       "      <td>6</td>\n",
       "      <td>radio/TV</td>\n",
       "      <td>good</td>\n",
       "    </tr>\n",
       "    <tr>\n",
       "      <th>1</th>\n",
       "      <td>22</td>\n",
       "      <td>female</td>\n",
       "      <td>2</td>\n",
       "      <td>own</td>\n",
       "      <td>little</td>\n",
       "      <td>moderate</td>\n",
       "      <td>5951</td>\n",
       "      <td>48</td>\n",
       "      <td>radio/TV</td>\n",
       "      <td>bad</td>\n",
       "    </tr>\n",
       "    <tr>\n",
       "      <th>2</th>\n",
       "      <td>49</td>\n",
       "      <td>male</td>\n",
       "      <td>1</td>\n",
       "      <td>own</td>\n",
       "      <td>little</td>\n",
       "      <td>NaN</td>\n",
       "      <td>2096</td>\n",
       "      <td>12</td>\n",
       "      <td>education</td>\n",
       "      <td>good</td>\n",
       "    </tr>\n",
       "    <tr>\n",
       "      <th>3</th>\n",
       "      <td>45</td>\n",
       "      <td>male</td>\n",
       "      <td>2</td>\n",
       "      <td>free</td>\n",
       "      <td>little</td>\n",
       "      <td>little</td>\n",
       "      <td>7882</td>\n",
       "      <td>42</td>\n",
       "      <td>furniture/equipment</td>\n",
       "      <td>good</td>\n",
       "    </tr>\n",
       "    <tr>\n",
       "      <th>4</th>\n",
       "      <td>53</td>\n",
       "      <td>male</td>\n",
       "      <td>2</td>\n",
       "      <td>free</td>\n",
       "      <td>little</td>\n",
       "      <td>little</td>\n",
       "      <td>4870</td>\n",
       "      <td>24</td>\n",
       "      <td>car</td>\n",
       "      <td>bad</td>\n",
       "    </tr>\n",
       "    <tr>\n",
       "      <th>...</th>\n",
       "      <td>...</td>\n",
       "      <td>...</td>\n",
       "      <td>...</td>\n",
       "      <td>...</td>\n",
       "      <td>...</td>\n",
       "      <td>...</td>\n",
       "      <td>...</td>\n",
       "      <td>...</td>\n",
       "      <td>...</td>\n",
       "      <td>...</td>\n",
       "    </tr>\n",
       "    <tr>\n",
       "      <th>995</th>\n",
       "      <td>31</td>\n",
       "      <td>female</td>\n",
       "      <td>1</td>\n",
       "      <td>own</td>\n",
       "      <td>little</td>\n",
       "      <td>NaN</td>\n",
       "      <td>1736</td>\n",
       "      <td>12</td>\n",
       "      <td>furniture/equipment</td>\n",
       "      <td>good</td>\n",
       "    </tr>\n",
       "    <tr>\n",
       "      <th>996</th>\n",
       "      <td>40</td>\n",
       "      <td>male</td>\n",
       "      <td>3</td>\n",
       "      <td>own</td>\n",
       "      <td>little</td>\n",
       "      <td>little</td>\n",
       "      <td>3857</td>\n",
       "      <td>30</td>\n",
       "      <td>car</td>\n",
       "      <td>good</td>\n",
       "    </tr>\n",
       "    <tr>\n",
       "      <th>997</th>\n",
       "      <td>38</td>\n",
       "      <td>male</td>\n",
       "      <td>2</td>\n",
       "      <td>own</td>\n",
       "      <td>little</td>\n",
       "      <td>NaN</td>\n",
       "      <td>804</td>\n",
       "      <td>12</td>\n",
       "      <td>radio/TV</td>\n",
       "      <td>good</td>\n",
       "    </tr>\n",
       "    <tr>\n",
       "      <th>998</th>\n",
       "      <td>23</td>\n",
       "      <td>male</td>\n",
       "      <td>2</td>\n",
       "      <td>free</td>\n",
       "      <td>little</td>\n",
       "      <td>little</td>\n",
       "      <td>1845</td>\n",
       "      <td>45</td>\n",
       "      <td>radio/TV</td>\n",
       "      <td>bad</td>\n",
       "    </tr>\n",
       "    <tr>\n",
       "      <th>999</th>\n",
       "      <td>27</td>\n",
       "      <td>male</td>\n",
       "      <td>2</td>\n",
       "      <td>own</td>\n",
       "      <td>moderate</td>\n",
       "      <td>moderate</td>\n",
       "      <td>4576</td>\n",
       "      <td>45</td>\n",
       "      <td>car</td>\n",
       "      <td>good</td>\n",
       "    </tr>\n",
       "  </tbody>\n",
       "</table>\n",
       "<p>1000 rows × 10 columns</p>\n",
       "</div>"
      ],
      "text/plain": [
       "     Age     Sex  Job Housing Saving accounts Checking account  Credit amount  \\\n",
       "0     67    male    2     own             NaN           little           1169   \n",
       "1     22  female    2     own          little         moderate           5951   \n",
       "2     49    male    1     own          little              NaN           2096   \n",
       "3     45    male    2    free          little           little           7882   \n",
       "4     53    male    2    free          little           little           4870   \n",
       "..   ...     ...  ...     ...             ...              ...            ...   \n",
       "995   31  female    1     own          little              NaN           1736   \n",
       "996   40    male    3     own          little           little           3857   \n",
       "997   38    male    2     own          little              NaN            804   \n",
       "998   23    male    2    free          little           little           1845   \n",
       "999   27    male    2     own        moderate         moderate           4576   \n",
       "\n",
       "     Duration              Purpose  Risk  \n",
       "0           6             radio/TV  good  \n",
       "1          48             radio/TV   bad  \n",
       "2          12            education  good  \n",
       "3          42  furniture/equipment  good  \n",
       "4          24                  car   bad  \n",
       "..        ...                  ...   ...  \n",
       "995        12  furniture/equipment  good  \n",
       "996        30                  car  good  \n",
       "997        12             radio/TV  good  \n",
       "998        45             radio/TV   bad  \n",
       "999        45                  car  good  \n",
       "\n",
       "[1000 rows x 10 columns]"
      ]
     },
     "execution_count": 32,
     "metadata": {},
     "output_type": "execute_result"
    }
   ],
   "source": [
    "## Continúe como ud. estime necesario.\n",
    "german.drop_duplicates(inplace=True, ignore_index=True)\n",
    "german"
   ]
  },
  {
   "attachments": {},
   "cell_type": "markdown",
   "id": "c544cbf4",
   "metadata": {},
   "source": [
    "Vemos que no hay datos duplicados."
   ]
  },
  {
   "cell_type": "code",
   "execution_count": 33,
   "id": "c6aaf7ee",
   "metadata": {},
   "outputs": [
    {
     "name": "stdout",
     "output_type": "stream",
     "text": [
      "<class 'pandas.core.frame.DataFrame'>\n",
      "RangeIndex: 1000 entries, 0 to 999\n",
      "Data columns (total 10 columns):\n",
      " #   Column            Non-Null Count  Dtype \n",
      "---  ------            --------------  ----- \n",
      " 0   Age               1000 non-null   int64 \n",
      " 1   Sex               1000 non-null   object\n",
      " 2   Job               1000 non-null   int64 \n",
      " 3   Housing           1000 non-null   object\n",
      " 4   Saving accounts   817 non-null    object\n",
      " 5   Checking account  606 non-null    object\n",
      " 6   Credit amount     1000 non-null   int64 \n",
      " 7   Duration          1000 non-null   int64 \n",
      " 8   Purpose           1000 non-null   object\n",
      " 9   Risk              1000 non-null   object\n",
      "dtypes: int64(4), object(6)\n",
      "memory usage: 78.2+ KB\n"
     ]
    }
   ],
   "source": [
    "german.info()"
   ]
  },
  {
   "attachments": {},
   "cell_type": "markdown",
   "id": "c6dcef71",
   "metadata": {},
   "source": [
    "Vemos que en estas las columnas Saving accounts y Checking account, presentan más del 50% de valores nulos, por lo que quitaremos estas columnas."
   ]
  },
  {
   "cell_type": "code",
   "execution_count": 34,
   "id": "e41bd504",
   "metadata": {},
   "outputs": [
    {
     "name": "stderr",
     "output_type": "stream",
     "text": [
      "C:\\Users\\matia\\AppData\\Local\\Temp\\ipykernel_6292\\96742304.py:1: FutureWarning: In a future version of pandas all arguments of DataFrame.dropna will be keyword-only.\n",
      "  german.dropna('index', inplace=True)\n"
     ]
    },
    {
     "data": {
      "text/html": [
       "<div>\n",
       "<style scoped>\n",
       "    .dataframe tbody tr th:only-of-type {\n",
       "        vertical-align: middle;\n",
       "    }\n",
       "\n",
       "    .dataframe tbody tr th {\n",
       "        vertical-align: top;\n",
       "    }\n",
       "\n",
       "    .dataframe thead th {\n",
       "        text-align: right;\n",
       "    }\n",
       "</style>\n",
       "<table border=\"1\" class=\"dataframe\">\n",
       "  <thead>\n",
       "    <tr style=\"text-align: right;\">\n",
       "      <th></th>\n",
       "      <th>Age</th>\n",
       "      <th>Sex</th>\n",
       "      <th>Job</th>\n",
       "      <th>Housing</th>\n",
       "      <th>Saving accounts</th>\n",
       "      <th>Checking account</th>\n",
       "      <th>Credit amount</th>\n",
       "      <th>Duration</th>\n",
       "      <th>Purpose</th>\n",
       "      <th>Risk</th>\n",
       "    </tr>\n",
       "  </thead>\n",
       "  <tbody>\n",
       "    <tr>\n",
       "      <th>1</th>\n",
       "      <td>22</td>\n",
       "      <td>female</td>\n",
       "      <td>2</td>\n",
       "      <td>own</td>\n",
       "      <td>little</td>\n",
       "      <td>moderate</td>\n",
       "      <td>5951</td>\n",
       "      <td>48</td>\n",
       "      <td>radio/TV</td>\n",
       "      <td>bad</td>\n",
       "    </tr>\n",
       "    <tr>\n",
       "      <th>3</th>\n",
       "      <td>45</td>\n",
       "      <td>male</td>\n",
       "      <td>2</td>\n",
       "      <td>free</td>\n",
       "      <td>little</td>\n",
       "      <td>little</td>\n",
       "      <td>7882</td>\n",
       "      <td>42</td>\n",
       "      <td>furniture/equipment</td>\n",
       "      <td>good</td>\n",
       "    </tr>\n",
       "    <tr>\n",
       "      <th>4</th>\n",
       "      <td>53</td>\n",
       "      <td>male</td>\n",
       "      <td>2</td>\n",
       "      <td>free</td>\n",
       "      <td>little</td>\n",
       "      <td>little</td>\n",
       "      <td>4870</td>\n",
       "      <td>24</td>\n",
       "      <td>car</td>\n",
       "      <td>bad</td>\n",
       "    </tr>\n",
       "    <tr>\n",
       "      <th>7</th>\n",
       "      <td>35</td>\n",
       "      <td>male</td>\n",
       "      <td>3</td>\n",
       "      <td>rent</td>\n",
       "      <td>little</td>\n",
       "      <td>moderate</td>\n",
       "      <td>6948</td>\n",
       "      <td>36</td>\n",
       "      <td>car</td>\n",
       "      <td>good</td>\n",
       "    </tr>\n",
       "    <tr>\n",
       "      <th>9</th>\n",
       "      <td>28</td>\n",
       "      <td>male</td>\n",
       "      <td>3</td>\n",
       "      <td>own</td>\n",
       "      <td>little</td>\n",
       "      <td>moderate</td>\n",
       "      <td>5234</td>\n",
       "      <td>30</td>\n",
       "      <td>car</td>\n",
       "      <td>bad</td>\n",
       "    </tr>\n",
       "    <tr>\n",
       "      <th>...</th>\n",
       "      <td>...</td>\n",
       "      <td>...</td>\n",
       "      <td>...</td>\n",
       "      <td>...</td>\n",
       "      <td>...</td>\n",
       "      <td>...</td>\n",
       "      <td>...</td>\n",
       "      <td>...</td>\n",
       "      <td>...</td>\n",
       "      <td>...</td>\n",
       "    </tr>\n",
       "    <tr>\n",
       "      <th>989</th>\n",
       "      <td>48</td>\n",
       "      <td>male</td>\n",
       "      <td>1</td>\n",
       "      <td>own</td>\n",
       "      <td>little</td>\n",
       "      <td>moderate</td>\n",
       "      <td>1743</td>\n",
       "      <td>24</td>\n",
       "      <td>radio/TV</td>\n",
       "      <td>good</td>\n",
       "    </tr>\n",
       "    <tr>\n",
       "      <th>993</th>\n",
       "      <td>30</td>\n",
       "      <td>male</td>\n",
       "      <td>3</td>\n",
       "      <td>own</td>\n",
       "      <td>little</td>\n",
       "      <td>little</td>\n",
       "      <td>3959</td>\n",
       "      <td>36</td>\n",
       "      <td>furniture/equipment</td>\n",
       "      <td>good</td>\n",
       "    </tr>\n",
       "    <tr>\n",
       "      <th>996</th>\n",
       "      <td>40</td>\n",
       "      <td>male</td>\n",
       "      <td>3</td>\n",
       "      <td>own</td>\n",
       "      <td>little</td>\n",
       "      <td>little</td>\n",
       "      <td>3857</td>\n",
       "      <td>30</td>\n",
       "      <td>car</td>\n",
       "      <td>good</td>\n",
       "    </tr>\n",
       "    <tr>\n",
       "      <th>998</th>\n",
       "      <td>23</td>\n",
       "      <td>male</td>\n",
       "      <td>2</td>\n",
       "      <td>free</td>\n",
       "      <td>little</td>\n",
       "      <td>little</td>\n",
       "      <td>1845</td>\n",
       "      <td>45</td>\n",
       "      <td>radio/TV</td>\n",
       "      <td>bad</td>\n",
       "    </tr>\n",
       "    <tr>\n",
       "      <th>999</th>\n",
       "      <td>27</td>\n",
       "      <td>male</td>\n",
       "      <td>2</td>\n",
       "      <td>own</td>\n",
       "      <td>moderate</td>\n",
       "      <td>moderate</td>\n",
       "      <td>4576</td>\n",
       "      <td>45</td>\n",
       "      <td>car</td>\n",
       "      <td>good</td>\n",
       "    </tr>\n",
       "  </tbody>\n",
       "</table>\n",
       "<p>522 rows × 10 columns</p>\n",
       "</div>"
      ],
      "text/plain": [
       "     Age     Sex  Job Housing Saving accounts Checking account  Credit amount  \\\n",
       "1     22  female    2     own          little         moderate           5951   \n",
       "3     45    male    2    free          little           little           7882   \n",
       "4     53    male    2    free          little           little           4870   \n",
       "7     35    male    3    rent          little         moderate           6948   \n",
       "9     28    male    3     own          little         moderate           5234   \n",
       "..   ...     ...  ...     ...             ...              ...            ...   \n",
       "989   48    male    1     own          little         moderate           1743   \n",
       "993   30    male    3     own          little           little           3959   \n",
       "996   40    male    3     own          little           little           3857   \n",
       "998   23    male    2    free          little           little           1845   \n",
       "999   27    male    2     own        moderate         moderate           4576   \n",
       "\n",
       "     Duration              Purpose  Risk  \n",
       "1          48             radio/TV   bad  \n",
       "3          42  furniture/equipment  good  \n",
       "4          24                  car   bad  \n",
       "7          36                  car  good  \n",
       "9          30                  car   bad  \n",
       "..        ...                  ...   ...  \n",
       "989        24             radio/TV  good  \n",
       "993        36  furniture/equipment  good  \n",
       "996        30                  car  good  \n",
       "998        45             radio/TV   bad  \n",
       "999        45                  car  good  \n",
       "\n",
       "[522 rows x 10 columns]"
      ]
     },
     "execution_count": 34,
     "metadata": {},
     "output_type": "execute_result"
    }
   ],
   "source": [
    "german.dropna('index', inplace=True)\n",
    "german"
   ]
  },
  {
   "attachments": {},
   "cell_type": "markdown",
   "id": "b500541b",
   "metadata": {},
   "source": [
    "Ahora transformaremos las columnas no numéricas en variables categoricas."
   ]
  },
  {
   "cell_type": "code",
   "execution_count": 35,
   "id": "e4ed627e",
   "metadata": {},
   "outputs": [
    {
     "name": "stdout",
     "output_type": "stream",
     "text": [
      "<class 'pandas.core.frame.DataFrame'>\n",
      "Int64Index: 522 entries, 1 to 999\n",
      "Data columns (total 10 columns):\n",
      " #   Column            Non-Null Count  Dtype   \n",
      "---  ------            --------------  -----   \n",
      " 0   Age               522 non-null    int64   \n",
      " 1   Sex               522 non-null    category\n",
      " 2   Job               522 non-null    int64   \n",
      " 3   Housing           522 non-null    category\n",
      " 4   Saving accounts   522 non-null    object  \n",
      " 5   Checking account  522 non-null    object  \n",
      " 6   Credit amount     522 non-null    int64   \n",
      " 7   Duration          522 non-null    int64   \n",
      " 8   Purpose           522 non-null    category\n",
      " 9   Risk              522 non-null    category\n",
      "dtypes: category(4), int64(4), object(2)\n",
      "memory usage: 31.3+ KB\n"
     ]
    }
   ],
   "source": [
    "categorias = ['Sex', 'Housing', 'Purpose', 'Risk']\n",
    "for cat in categorias:\n",
    "    german[cat] = german[cat].astype('category')\n",
    "german.info()"
   ]
  },
  {
   "attachments": {},
   "cell_type": "markdown",
   "id": "779af8b1",
   "metadata": {},
   "source": [
    "### Empecemos analizando los datos."
   ]
  },
  {
   "cell_type": "code",
   "execution_count": 36,
   "id": "a963f922",
   "metadata": {},
   "outputs": [
    {
     "data": {
      "image/png": "[encoded data removed]",
      "text/plain": [
       "<Figure size 720x720 with 1 Axes>"
      ]
     },
     "metadata": {
      "needs_background": "light"
     },
     "output_type": "display_data"
    }
   ],
   "source": [
    "fig, ax = plt.subplots(1, figsize=(10, 10))\n",
    "sns.swarmplot(data=german, x='Age', y='Sex', hue='Risk', palette='Purples')\n",
    "plt.title('Risk: representación por edad y sexo')\n",
    "plt.grid()\n",
    "ax.set_xlabel('Edad')\n",
    "ax.set_ylabel('Sexo')\n",
    "plt.show()"
   ]
  },
  {
   "attachments": {},
   "cell_type": "markdown",
   "id": "c7fa12aa",
   "metadata": {},
   "source": [
    "Podemos ver que hay más datos de hombres que de mujeres y que la mayoría de los datos de mujeres están en el rango de edad de los 20 a los 30 años, en cambio la mayoría de los datos de hombres se encuantra en el rango de edad de los 25 a los 40 años.\n",
    "\n",
    "### Veamos el riesgo segun edad y sexo:"
   ]
  },
  {
   "cell_type": "code",
   "execution_count": 37,
   "id": "02c8f940",
   "metadata": {},
   "outputs": [
    {
     "data": {
      "image/png": "[encoded data removed]",
      "text/plain": [
       "<Figure size 864x432 with 2 Axes>"
      ]
     },
     "metadata": {
      "needs_background": "light"
     },
     "output_type": "display_data"
    }
   ],
   "source": [
    "fig, ax = plt.subplots(1, 2, figsize=(12, 6))\n",
    "\n",
    "sns.histplot(data=german[german['Sex'] == 'male'], x='Age', binwidth=10, ax=ax[0],\n",
    "             hue='Risk', palette=['green', 'purple'])\n",
    "sns.histplot(data=german[german['Sex'] == 'female'], x='Age', binwidth=10, ax=ax[1],\n",
    "             hue='Risk', palette=['green', 'purple'])\n",
    "\n",
    "ax[0].set_title('Riesgo según edad (hombres)')\n",
    "ax[1].set_title('Riesgo según edad (mujeres)')\n",
    "\n",
    "plt.show()"
   ]
  },
  {
   "attachments": {},
   "cell_type": "markdown",
   "id": "46eaab7d",
   "metadata": {},
   "source": [
    "Podemos ver que si vemos el Riesgo mediante la edad y el sexo, que en ambos sexos prevalece a que a más edad el riesgo (good or bad) va disminuyendo y que que a menor edad hay mayor riesgo, tanto good risk como bad risk, que mayor edad, osea, que la población más joven tiende apedir más creditos que la población con mayor edad.\n",
    "\n",
    "Algo interesante a notar es que en los datos de las mujeres hay mayor cantidad de casos de créditos con un bad risk entre los 20 y 40 años que créditos con un good risk. Al igual que, entre los 20 y 30 años las mujeres tieden a tomár más créditos que los hombres, en cambio entre los 30 y 40 años, los hombres tienden a tomar más créditos con un good risk que las mujeres.\n",
    "\n",
    "### Ahora veamos el Riesgo dependiendo del trabajo que poseen y el sexo:"
   ]
  },
  {
   "cell_type": "code",
   "execution_count": 38,
   "id": "e867c8b9",
   "metadata": {},
   "outputs": [
    {
     "data": {
      "image/png": "[encoded data removed]",
      "text/plain": [
       "<Figure size 864x432 with 2 Axes>"
      ]
     },
     "metadata": {
      "needs_background": "light"
     },
     "output_type": "display_data"
    }
   ],
   "source": [
    "fig, ax = plt.subplots(1, 2, figsize=(12, 6))\n",
    "\n",
    "sns.countplot(data=german[german['Sex'] == 'male'], x='Job', ax=ax[0],\n",
    "             hue='Risk', palette='Greens')\n",
    "sns.countplot(data=german[german['Sex'] == 'female'], x='Job', ax=ax[1],\n",
    "             hue='Risk', palette='Purples')\n",
    "\n",
    "ax[0].set_title('Riesgo según edad (hombres)')\n",
    "ax[1].set_title('Riesgo según edad (mujeres)')\n",
    "\n",
    "plt.show()"
   ]
  },
  {
   "attachments": {},
   "cell_type": "markdown",
   "id": "68b58e9e",
   "metadata": {},
   "source": [
    "Podemos ver que las personas que están en el trabajo 2, toman más créditos y prefieren un crédito con un good risk. El trabajo 0, es el que menor créditos toma.\n",
    "### Vemos el Riesgo dependiendo del propósito y sexo:"
   ]
  },
  {
   "cell_type": "code",
   "execution_count": 39,
   "id": "667f76a0",
   "metadata": {},
   "outputs": [
    {
     "data": {
      "image/png": "[encoded data removed]",
      "text/plain": [
       "<Figure size 1800x864 with 2 Axes>"
      ]
     },
     "metadata": {
      "needs_background": "light"
     },
     "output_type": "display_data"
    }
   ],
   "source": [
    "fig, ax = plt.subplots(1, 2, figsize=(25, 12))\n",
    "\n",
    "sns.countplot(data=german[german['Sex'] == 'male'], x='Purpose', ax=ax[0],\n",
    "             hue='Risk', palette='Reds')\n",
    "sns.countplot(data=german[german['Sex'] == 'female'], x='Purpose', ax=ax[1],\n",
    "             hue='Risk', palette='Purples')\n",
    "\n",
    "ax[0].set_title('Riesgo según edad (hombres)')\n",
    "ax[1].set_title('Riesgo según edad (mujeres)')\n",
    "\n",
    "plt.show()"
   ]
  },
  {
   "attachments": {},
   "cell_type": "markdown",
   "id": "42021243",
   "metadata": {},
   "source": [
    "Podemos ver que, tanto hombre como mujeres, buscan tomar un crédito para obtener un auto o una radio/TV o para artículos mobiliarios. Y vemos que las mujeres tienden a tomár más créditos con un bad risk para comprarse un auto que para otros propósitos.\n",
    "\n",
    "### Veamos el Riesgo dependiendo de alojamiento posee y por sexo:"
   ]
  },
  {
   "cell_type": "code",
   "execution_count": 40,
   "id": "8dd6c5e7",
   "metadata": {},
   "outputs": [
    {
     "data": {
      "image/png": "[encoded data removed]",
      "text/plain": [
       "<Figure size 1080x576 with 2 Axes>"
      ]
     },
     "metadata": {
      "needs_background": "light"
     },
     "output_type": "display_data"
    }
   ],
   "source": [
    "fig, ax = plt.subplots(1, 2, figsize=(15, 8))\n",
    "\n",
    "sns.countplot(data=german[german['Sex'] == 'male'], x='Housing', ax=ax[0],\n",
    "             hue='Risk', palette='Greens')\n",
    "sns.countplot(data=german[german['Sex'] == 'female'], x='Housing', ax=ax[1],\n",
    "             hue='Risk', palette='Purples')\n",
    "\n",
    "ax[0].set_title('Riesgo según edad (hombres)')\n",
    "ax[1].set_title('Riesgo según edad (mujeres)')\n",
    "\n",
    "plt.show()"
   ]
  },
  {
   "attachments": {},
   "cell_type": "markdown",
   "id": "c8617203",
   "metadata": {},
   "source": [
    "Vemos que la mayoría de las personas poseen una casa propia, toman créditos con un good risk más que un bad risk. Y que las mujeres que no poseen casa propia tienden a tomar créditos con bad risk.\n",
    "\n",
    "Como pudimos ver en todo grupo, en la población alemana las mujeres tienden a tomar más créditos que los hombres y tienden a optar por créditos con un bad risk que a uno con good risk. Que en general la población alemana opta a créditos para comprar más bienes materiales que para otros propósitos. Y que, al tener una casa propia la gente tiende a pedir más créditos."
   ]
  },
  {
   "attachments": {},
   "cell_type": "markdown",
   "id": "6310e04b",
   "metadata": {},
   "source": [
    "# Parte 2: COMPAS\n",
    "\n",
    "## A. Repita el procedimiento que realizó para los datos de German Credit Disk. \n",
    "\n",
    "## B. Defina una nueva columna que indique si la clasificación de cierto registro corresponde a un TP, FP, TN, FN.\n",
    "\n",
    "## C. Calcule las métricas de fairness a nivel grupal. Por ejemplo, para un grupo dado g, su $\\text{FPR}_g$ corresponde a:\n",
    "\n",
    "$$\\begin{align*}\\text{FPR}_g = \\frac{\\text{FP}_g}{\\text{FP}_g + \\text{TN}_g}\\end{align*}$$\n",
    "\n",
    "Considere sólo las categorias sexo y raza\n",
    "\n",
    "## D. Elija dos métricas y reflexione acerca de las implicancias que tienen estas en el contexto dado.\n"
   ]
  },
  {
   "cell_type": "code",
   "execution_count": 41,
   "id": "9c62fe10",
   "metadata": {},
   "outputs": [
    {
     "data": {
      "text/html": [
       "<div>\n",
       "<style scoped>\n",
       "    .dataframe tbody tr th:only-of-type {\n",
       "        vertical-align: middle;\n",
       "    }\n",
       "\n",
       "    .dataframe tbody tr th {\n",
       "        vertical-align: top;\n",
       "    }\n",
       "\n",
       "    .dataframe thead th {\n",
       "        text-align: right;\n",
       "    }\n",
       "</style>\n",
       "<table border=\"1\" class=\"dataframe\">\n",
       "  <thead>\n",
       "    <tr style=\"text-align: right;\">\n",
       "      <th></th>\n",
       "      <th>entity_id</th>\n",
       "      <th>score</th>\n",
       "      <th>label_value</th>\n",
       "      <th>race</th>\n",
       "      <th>sex</th>\n",
       "      <th>age_cat</th>\n",
       "    </tr>\n",
       "  </thead>\n",
       "  <tbody>\n",
       "    <tr>\n",
       "      <th>0</th>\n",
       "      <td>1</td>\n",
       "      <td>0.0</td>\n",
       "      <td>0</td>\n",
       "      <td>Other</td>\n",
       "      <td>Male</td>\n",
       "      <td>Greater than 45</td>\n",
       "    </tr>\n",
       "    <tr>\n",
       "      <th>1</th>\n",
       "      <td>3</td>\n",
       "      <td>0.0</td>\n",
       "      <td>1</td>\n",
       "      <td>African-American</td>\n",
       "      <td>Male</td>\n",
       "      <td>25 - 45</td>\n",
       "    </tr>\n",
       "    <tr>\n",
       "      <th>2</th>\n",
       "      <td>4</td>\n",
       "      <td>0.0</td>\n",
       "      <td>1</td>\n",
       "      <td>African-American</td>\n",
       "      <td>Male</td>\n",
       "      <td>Less than 25</td>\n",
       "    </tr>\n",
       "    <tr>\n",
       "      <th>3</th>\n",
       "      <td>5</td>\n",
       "      <td>1.0</td>\n",
       "      <td>0</td>\n",
       "      <td>African-American</td>\n",
       "      <td>Male</td>\n",
       "      <td>Less than 25</td>\n",
       "    </tr>\n",
       "    <tr>\n",
       "      <th>4</th>\n",
       "      <td>6</td>\n",
       "      <td>0.0</td>\n",
       "      <td>0</td>\n",
       "      <td>Other</td>\n",
       "      <td>Male</td>\n",
       "      <td>25 - 45</td>\n",
       "    </tr>\n",
       "  </tbody>\n",
       "</table>\n",
       "</div>"
      ],
      "text/plain": [
       "   entity_id  score  label_value              race   sex          age_cat\n",
       "0          1    0.0            0             Other  Male  Greater than 45\n",
       "1          3    0.0            1  African-American  Male          25 - 45\n",
       "2          4    0.0            1  African-American  Male     Less than 25\n",
       "3          5    1.0            0  African-American  Male     Less than 25\n",
       "4          6    0.0            0             Other  Male          25 - 45"
      ]
     },
     "metadata": {},
     "output_type": "display_data"
    }
   ],
   "source": [
    "compas = pd.read_csv('https://github.com/dssg/aequitas/raw/master/examples/data/compas_for_aequitas.csv')\n",
    "display(compas.head())"
   ]
  },
  {
   "attachments": {},
   "cell_type": "markdown",
   "id": "bd955092",
   "metadata": {},
   "source": [
    "### A. Repita el procedimiento que realizó para los datos de German Credit Disk. "
   ]
  },
  {
   "attachments": {},
   "cell_type": "markdown",
   "id": "fb22ef20",
   "metadata": {},
   "source": [
    "Veamos una descripción genral de los datos:\n",
    "\n",
    "- entity_id: ID por persona\n",
    "- score: Etiqueta que predice el algoritmo.\n",
    "- label_value: Verdadera etiqueta de la persona.\n",
    "- race: Raza (etnia) de la persona\n",
    "- sex: Sexo de la persona\n",
    "- age_cat: intervalo de edad de la persona."
   ]
  },
  {
   "attachments": {},
   "cell_type": "markdown",
   "id": "279a024f",
   "metadata": {},
   "source": [
    "Veamos si hay datos duplicados:"
   ]
  },
  {
   "cell_type": "code",
   "execution_count": 42,
   "id": "4b2cf1d6",
   "metadata": {},
   "outputs": [
    {
     "data": {
      "text/plain": [
       "0"
      ]
     },
     "execution_count": 42,
     "metadata": {},
     "output_type": "execute_result"
    }
   ],
   "source": [
    "compas.duplicated().sum()"
   ]
  },
  {
   "attachments": {},
   "cell_type": "markdown",
   "id": "fb8382ab",
   "metadata": {},
   "source": [
    "Vemos que no hay datos duplicados. Veamos si hay datos faltantes:"
   ]
  },
  {
   "cell_type": "code",
   "execution_count": 43,
   "id": "a1c77e4e",
   "metadata": {},
   "outputs": [
    {
     "data": {
      "text/plain": [
       "entity_id      0\n",
       "score          0\n",
       "label_value    0\n",
       "race           0\n",
       "sex            0\n",
       "age_cat        0\n",
       "dtype: int64"
      ]
     },
     "execution_count": 43,
     "metadata": {},
     "output_type": "execute_result"
    }
   ],
   "source": [
    "compas.isna().sum()"
   ]
  },
  {
   "attachments": {},
   "cell_type": "markdown",
   "id": "c8b45db0",
   "metadata": {},
   "source": [
    "Vemos que no hay datos faltantes."
   ]
  },
  {
   "attachments": {},
   "cell_type": "markdown",
   "id": "ac31b069",
   "metadata": {},
   "source": [
    "Transformaremos las columnas no numéricas a categóricas."
   ]
  },
  {
   "cell_type": "code",
   "execution_count": 44,
   "id": "9fc267a5",
   "metadata": {},
   "outputs": [
    {
     "name": "stdout",
     "output_type": "stream",
     "text": [
      "<class 'pandas.core.frame.DataFrame'>\n",
      "RangeIndex: 7214 entries, 0 to 7213\n",
      "Data columns (total 6 columns):\n",
      " #   Column       Non-Null Count  Dtype   \n",
      "---  ------       --------------  -----   \n",
      " 0   entity_id    7214 non-null   int64   \n",
      " 1   score        7214 non-null   float64 \n",
      " 2   label_value  7214 non-null   int64   \n",
      " 3   race         7214 non-null   category\n",
      " 4   sex          7214 non-null   category\n",
      " 5   age_cat      7214 non-null   category\n",
      "dtypes: category(3), float64(1), int64(2)\n",
      "memory usage: 190.8 KB\n"
     ]
    }
   ],
   "source": [
    "categorias = ['race', 'sex', 'age_cat']\n",
    "for cat in categorias:\n",
    "    compas[cat] = compas[cat].astype('category')\n",
    "compas.info()"
   ]
  },
  {
   "attachments": {},
   "cell_type": "markdown",
   "id": "aee09346",
   "metadata": {},
   "source": [
    "Vemos la distribución de cada categoría:"
   ]
  },
  {
   "cell_type": "code",
   "execution_count": 45,
   "id": "36ed5ed8",
   "metadata": {},
   "outputs": [
    {
     "data": {
      "image/png": "[encoded data removed]",
      "text/plain": [
       "<Figure size 576x576 with 1 Axes>"
      ]
     },
     "metadata": {
      "needs_background": "light"
     },
     "output_type": "display_data"
    }
   ],
   "source": [
    "fig, ax = plt.subplots(1, figsize=(8, 8))\n",
    "sns.countplot(data=compas, x='sex', palette='Greens')\n",
    "plt.title('Representación por sexo')\n",
    "ax.set_xlabel('Sexo')\n",
    "ax.set_ylabel('Cantidad')\n",
    "plt.show()"
   ]
  },
  {
   "attachments": {},
   "cell_type": "markdown",
   "id": "0e013007",
   "metadata": {},
   "source": [
    "Vemos que en la mayoria de los datos corresponden a hombres, y que la difencia con la cantidad de datos de mujes es demasiado grande."
   ]
  },
  {
   "cell_type": "code",
   "execution_count": 46,
   "id": "36ebc39c",
   "metadata": {},
   "outputs": [
    {
     "data": {
      "image/png": "[encoded data removed]",
      "text/plain": [
       "<Figure size 576x576 with 1 Axes>"
      ]
     },
     "metadata": {
      "needs_background": "light"
     },
     "output_type": "display_data"
    }
   ],
   "source": [
    "# Representación: variable sex\n",
    "\n",
    "fig, ax = plt.subplots(1, figsize=(8, 8))\n",
    "sns.countplot(data=compas, x='race', palette='Reds')\n",
    "plt.title('Representación por raza')\n",
    "ax.set_xlabel('Raza')\n",
    "ax.set_ylabel('Cantidad')\n",
    "plt.show()"
   ]
  },
  {
   "attachments": {},
   "cell_type": "markdown",
   "id": "51b34607",
   "metadata": {},
   "source": [
    "Vemos que hay una desproporcionalidad en la cantidad de datos entregados, siendo que hay más de 3.500 datos de personas Afroamericanas y menos de 250 datos de personas asiaticas y nativo-americanas. "
   ]
  },
  {
   "cell_type": "code",
   "execution_count": 47,
   "id": "b57e75f1",
   "metadata": {},
   "outputs": [
    {
     "data": {
      "image/png": "[encoded data removed]",
      "text/plain": [
       "<Figure size 576x576 with 1 Axes>"
      ]
     },
     "metadata": {
      "needs_background": "light"
     },
     "output_type": "display_data"
    }
   ],
   "source": [
    "fig, ax = plt.subplots(1, figsize=(8, 8))\n",
    "sns.countplot(data=compas, x='age_cat', palette='Reds')\n",
    "plt.title('Representación por edad')\n",
    "ax.set_xlabel('edad')\n",
    "ax.set_ylabel('Cantidad')\n",
    "plt.show()"
   ]
  },
  {
   "attachments": {},
   "cell_type": "markdown",
   "id": "f60687da",
   "metadata": {},
   "source": [
    "Vemos que la cantidad de datos por intervalo de edad tiene una correcta proporción respecto a las otras categorías."
   ]
  },
  {
   "attachments": {},
   "cell_type": "markdown",
   "id": "0850d867",
   "metadata": {},
   "source": [
    "### B. Defina una nueva columna que indique si la clasificación de cierto registro corresponde a un TP, FP, TN, FN.\n"
   ]
  },
  {
   "cell_type": "code",
   "execution_count": 48,
   "id": "036bcbc2",
   "metadata": {},
   "outputs": [
    {
     "data": {
      "text/html": [
       "<div>\n",
       "<style scoped>\n",
       "    .dataframe tbody tr th:only-of-type {\n",
       "        vertical-align: middle;\n",
       "    }\n",
       "\n",
       "    .dataframe tbody tr th {\n",
       "        vertical-align: top;\n",
       "    }\n",
       "\n",
       "    .dataframe thead th {\n",
       "        text-align: right;\n",
       "    }\n",
       "</style>\n",
       "<table border=\"1\" class=\"dataframe\">\n",
       "  <thead>\n",
       "    <tr style=\"text-align: right;\">\n",
       "      <th></th>\n",
       "      <th>entity_id</th>\n",
       "      <th>score</th>\n",
       "      <th>label_value</th>\n",
       "      <th>race</th>\n",
       "      <th>sex</th>\n",
       "      <th>age_cat</th>\n",
       "      <th>Clasificacion</th>\n",
       "    </tr>\n",
       "  </thead>\n",
       "  <tbody>\n",
       "    <tr>\n",
       "      <th>0</th>\n",
       "      <td>1</td>\n",
       "      <td>0.0</td>\n",
       "      <td>0</td>\n",
       "      <td>Other</td>\n",
       "      <td>Male</td>\n",
       "      <td>Greater than 45</td>\n",
       "      <td>TN</td>\n",
       "    </tr>\n",
       "    <tr>\n",
       "      <th>1</th>\n",
       "      <td>3</td>\n",
       "      <td>0.0</td>\n",
       "      <td>1</td>\n",
       "      <td>African-American</td>\n",
       "      <td>Male</td>\n",
       "      <td>25 - 45</td>\n",
       "      <td>FN</td>\n",
       "    </tr>\n",
       "    <tr>\n",
       "      <th>2</th>\n",
       "      <td>4</td>\n",
       "      <td>0.0</td>\n",
       "      <td>1</td>\n",
       "      <td>African-American</td>\n",
       "      <td>Male</td>\n",
       "      <td>Less than 25</td>\n",
       "      <td>FN</td>\n",
       "    </tr>\n",
       "    <tr>\n",
       "      <th>3</th>\n",
       "      <td>5</td>\n",
       "      <td>1.0</td>\n",
       "      <td>0</td>\n",
       "      <td>African-American</td>\n",
       "      <td>Male</td>\n",
       "      <td>Less than 25</td>\n",
       "      <td>FP</td>\n",
       "    </tr>\n",
       "    <tr>\n",
       "      <th>4</th>\n",
       "      <td>6</td>\n",
       "      <td>0.0</td>\n",
       "      <td>0</td>\n",
       "      <td>Other</td>\n",
       "      <td>Male</td>\n",
       "      <td>25 - 45</td>\n",
       "      <td>TN</td>\n",
       "    </tr>\n",
       "    <tr>\n",
       "      <th>...</th>\n",
       "      <td>...</td>\n",
       "      <td>...</td>\n",
       "      <td>...</td>\n",
       "      <td>...</td>\n",
       "      <td>...</td>\n",
       "      <td>...</td>\n",
       "      <td>...</td>\n",
       "    </tr>\n",
       "    <tr>\n",
       "      <th>7209</th>\n",
       "      <td>10996</td>\n",
       "      <td>1.0</td>\n",
       "      <td>0</td>\n",
       "      <td>African-American</td>\n",
       "      <td>Male</td>\n",
       "      <td>Less than 25</td>\n",
       "      <td>FP</td>\n",
       "    </tr>\n",
       "    <tr>\n",
       "      <th>7210</th>\n",
       "      <td>10997</td>\n",
       "      <td>0.0</td>\n",
       "      <td>0</td>\n",
       "      <td>African-American</td>\n",
       "      <td>Male</td>\n",
       "      <td>Less than 25</td>\n",
       "      <td>TN</td>\n",
       "    </tr>\n",
       "    <tr>\n",
       "      <th>7211</th>\n",
       "      <td>10999</td>\n",
       "      <td>0.0</td>\n",
       "      <td>0</td>\n",
       "      <td>Other</td>\n",
       "      <td>Male</td>\n",
       "      <td>Greater than 45</td>\n",
       "      <td>TN</td>\n",
       "    </tr>\n",
       "    <tr>\n",
       "      <th>7212</th>\n",
       "      <td>11000</td>\n",
       "      <td>0.0</td>\n",
       "      <td>0</td>\n",
       "      <td>African-American</td>\n",
       "      <td>Female</td>\n",
       "      <td>25 - 45</td>\n",
       "      <td>TN</td>\n",
       "    </tr>\n",
       "    <tr>\n",
       "      <th>7213</th>\n",
       "      <td>11001</td>\n",
       "      <td>0.0</td>\n",
       "      <td>1</td>\n",
       "      <td>Hispanic</td>\n",
       "      <td>Female</td>\n",
       "      <td>Less than 25</td>\n",
       "      <td>FN</td>\n",
       "    </tr>\n",
       "  </tbody>\n",
       "</table>\n",
       "<p>7214 rows × 7 columns</p>\n",
       "</div>"
      ],
      "text/plain": [
       "      entity_id  score  label_value              race     sex  \\\n",
       "0             1    0.0            0             Other    Male   \n",
       "1             3    0.0            1  African-American    Male   \n",
       "2             4    0.0            1  African-American    Male   \n",
       "3             5    1.0            0  African-American    Male   \n",
       "4             6    0.0            0             Other    Male   \n",
       "...         ...    ...          ...               ...     ...   \n",
       "7209      10996    1.0            0  African-American    Male   \n",
       "7210      10997    0.0            0  African-American    Male   \n",
       "7211      10999    0.0            0             Other    Male   \n",
       "7212      11000    0.0            0  African-American  Female   \n",
       "7213      11001    0.0            1          Hispanic  Female   \n",
       "\n",
       "              age_cat Clasificacion  \n",
       "0     Greater than 45            TN  \n",
       "1             25 - 45            FN  \n",
       "2        Less than 25            FN  \n",
       "3        Less than 25            FP  \n",
       "4             25 - 45            TN  \n",
       "...               ...           ...  \n",
       "7209     Less than 25            FP  \n",
       "7210     Less than 25            TN  \n",
       "7211  Greater than 45            TN  \n",
       "7212          25 - 45            TN  \n",
       "7213     Less than 25            FN  \n",
       "\n",
       "[7214 rows x 7 columns]"
      ]
     },
     "execution_count": 48,
     "metadata": {},
     "output_type": "execute_result"
    }
   ],
   "source": [
    "clasificacion = []\n",
    "for i in range(len(compas)):\n",
    "    if compas.iloc[i]['score'] == 0 and compas.iloc[i]['label_value'] == 0:\n",
    "        clasificacion.append('TN')\n",
    "    elif compas.iloc[i]['score'] == 1 and compas.iloc[i]['label_value'] == 0:\n",
    "        clasificacion.append('FP')\n",
    "    elif compas.iloc[i]['score'] == 0 and compas.iloc[i]['label_value'] == 1:\n",
    "        clasificacion.append('FN')\n",
    "    elif compas.iloc[i]['score'] == 1 and compas.iloc[i]['label_value'] == 1:\n",
    "        clasificacion.append('TP')\n",
    "compas['Clasificacion'] = clasificacion\n",
    "compas"
   ]
  },
  {
   "attachments": {},
   "cell_type": "markdown",
   "id": "0c230b3c",
   "metadata": {},
   "source": [
    "### C. Calcule las métricas de fairness a nivel grupal. Por ejemplo, para un grupo dado g, su $\\text{FPR}_g$ corresponde a:\n",
    "\n",
    "$$\\begin{align*}\\text{FPR}_g = \\frac{\\text{FP}_g}{\\text{FP}_g + \\text{TN}_g}\\end{align*}$$\n",
    "\n",
    "Considere sólo las categorias sexo y raza"
   ]
  },
  {
   "attachments": {},
   "cell_type": "markdown",
   "id": "74c58c44",
   "metadata": {},
   "source": [
    "### Veamos primero la categoría por sexo."
   ]
  },
  {
   "cell_type": "code",
   "execution_count": 49,
   "id": "f546870f",
   "metadata": {},
   "outputs": [
    {
     "data": {
      "text/plain": [
       "{'Male': 0.324, 'Female': 0.321}"
      ]
     },
     "execution_count": 49,
     "metadata": {},
     "output_type": "execute_result"
    }
   ],
   "source": [
    "fprs = {}\n",
    "for gen in compas['sex'].unique():\n",
    "    df = compas[compas['sex'] == gen]\n",
    "    df = df[['Clasificacion']]\n",
    "    fpr = df[df['Clasificacion'] == 'FP'].count() / (df[df['Clasificacion'] == 'FP'].count() + df[df['Clasificacion'] == 'TN'].count())\n",
    "    fpr = fpr['Clasificacion']\n",
    "    fprs[gen] = round(fpr, 3)\n",
    "fprs"
   ]
  },
  {
   "attachments": {},
   "cell_type": "markdown",
   "id": "0acacea6",
   "metadata": {},
   "source": [
    "Vemos que el FPR de la categoría sexo, en hombres es del 0.32 y en mujeres es del 0.32. Vemos que el algoritmo clasifica al 32% mal, osea que clasificaba de posibles reincidentes criminales a quienes no los eran.\n",
    "\n",
    "### Ahora veamoslo por la categoría raza:"
   ]
  },
  {
   "cell_type": "code",
   "execution_count": 50,
   "id": "0dc6a723",
   "metadata": {},
   "outputs": [
    {
     "data": {
      "text/plain": [
       "{'Other': 0.148,\n",
       " 'African-American': 0.448,\n",
       " 'Caucasian': 0.235,\n",
       " 'Hispanic': 0.215,\n",
       " 'Native American': 0.375,\n",
       " 'Asian': 0.087}"
      ]
     },
     "execution_count": 50,
     "metadata": {},
     "output_type": "execute_result"
    }
   ],
   "source": [
    "fprs = {}\n",
    "for race in compas['race'].unique():\n",
    "    df = compas[compas['race'] == race]\n",
    "    df = df[['Clasificacion']]\n",
    "    fpr = df[df['Clasificacion'] == 'FP'].count() / (df[df['Clasificacion'] == 'FP'].count() + df[df['Clasificacion'] == 'TN'].count())\n",
    "    fpr = fpr['Clasificacion']\n",
    "    fprs[race] = round(fpr, 3)\n",
    "fprs"
   ]
  },
  {
   "attachments": {},
   "cell_type": "markdown",
   "id": "54052a82",
   "metadata": {},
   "source": [
    "Vemos que el FPR de la raza Afro-Americana es de 0.45, osea que clasifica mal al 45% diciendo que si corresponden a criminales reincidentes cuando no lo son. De manera similar pasa con los Nativo-Americanos con el 38% y los Hispanos con el 20%. "
   ]
  },
  {
   "attachments": {},
   "cell_type": "markdown",
   "id": "a0225463",
   "metadata": {},
   "source": [
    "### D. Elija dos métricas y reflexione acerca de las implicancias que tienen estas en el contexto dado.\n",
    "\n",
    "Tomemos la categoría edad y raza. Primero, veamos el FPR de la categoría edad."
   ]
  },
  {
   "cell_type": "code",
   "execution_count": 51,
   "id": "6b59c2a6",
   "metadata": {},
   "outputs": [
    {
     "data": {
      "text/plain": [
       "{'Greater than 45': 0.168, '25 - 45': 0.334, 'Less than 25': 0.541}"
      ]
     },
     "execution_count": 51,
     "metadata": {},
     "output_type": "execute_result"
    }
   ],
   "source": [
    "fprs = {}\n",
    "for race in compas['age_cat'].unique():\n",
    "    df = compas[compas['age_cat'] == race]\n",
    "    df = df[['Clasificacion']]\n",
    "    fpr = df[df['Clasificacion'] == 'FP'].count() / (df[df['Clasificacion'] == 'FP'].count() + df[df['Clasificacion'] == 'TN'].count())\n",
    "    fpr = fpr['Clasificacion']\n",
    "    fprs[race] = round(fpr, 3)\n",
    "fprs"
   ]
  },
  {
   "attachments": {},
   "cell_type": "markdown",
   "id": "6f6a0ce1",
   "metadata": {},
   "source": [
    "Vemos que el algoritmo cataloga más mal a las personas menores a 25 años, con un porcentaje del 54%. Osea, que al ser una persona menor 25 años tiene mayor probabilidad de ser catalogado como un criminal reincidente.\n",
    "\n",
    "Ahora veamos el FPR de las personas Afroamericanas menores a 25 años."
   ]
  },
  {
   "cell_type": "code",
   "execution_count": 52,
   "id": "3ce8f27a",
   "metadata": {},
   "outputs": [
    {
     "data": {
      "text/plain": [
       "0.5988857938718662"
      ]
     },
     "execution_count": 52,
     "metadata": {},
     "output_type": "execute_result"
    }
   ],
   "source": [
    "df = compas[compas['race'] == 'African-American']\n",
    "df = df[df['age_cat'] == 'Less than 25']\n",
    "df = df[['Clasificacion']]\n",
    "fpr = df[df['Clasificacion'] == 'FP'].count() / (df[df['Clasificacion'] == 'FP'].count() + df[df['Clasificacion'] == 'TN'].count())\n",
    "fpr = fpr['Clasificacion']\n",
    "fpr"
   ]
  },
  {
   "attachments": {},
   "cell_type": "markdown",
   "id": "9300182b",
   "metadata": {},
   "source": [
    "Vemos que el porcentaje de mala clasificación a las personas Afroamericanas y que tienen menos de 25 años es del 60%, que es un porcentaje demasiado alto. Claramente vemos que estas dos categorías afectan demasiado al algoritmo, este está mal entrenado generando una gran discriminación hacia las personas Afroamericanas y que su edad también influye mucho. "
   ]
  }
 ],
 "metadata": {
  "kernelspec": {
   "display_name": "Python 3 (ipykernel)",
   "language": "python",
   "name": "python3"
  },
  "language_info": {
   "codemirror_mode": {
    "name": "ipython",
    "version": 3
   },
   "file_extension": ".py",
   "mimetype": "text/x-python",
   "name": "python",
   "nbconvert_exporter": "python",
   "pygments_lexer": "ipython3",
   "version": "3.10.6"
  }
 },
 "nbformat": 4,
 "nbformat_minor": 5
}
